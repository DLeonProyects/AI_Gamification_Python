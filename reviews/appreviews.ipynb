{
  "cells": [
    {
      "cell_type": "code",
      "source": [
        "#@title Installing needed dependencies!\n",
        "from IPython.display import clear_output\n",
        "try:\n",
        "    from app_store_scraper import AppStore\n",
        "    from pprint import pprint\n",
        "    import pandas as pd\n",
        "    import numpy as np\n",
        "    import json\n",
        "    print(\"Modules required are already installed!\")\n",
        "except ModuleNotFoundError:\n",
        "    %pip install google-play-scraper\n",
        "    clear_output()\n",
        "    %pip install app-store-scraper\n",
        "    clear_output()\n",
        "    %pip install google-search-scraper-python\n",
        "    clear_output()\n",
        "    %pip install pandas\n",
        "    clear_output()\n",
        "    print(\"All modules required were sucessfully installed!\")"
      ],
      "metadata": {
        "id": "IrV6xNbH6OsX",
        "cellView": "form"
      },
      "execution_count": null,
      "outputs": []
    },
    {
      "cell_type": "code",
      "source": [
        "#@title App Reviews from App Store\n",
        "from app_store_scraper import AppStore\n",
        "from pprint import pprint\n",
        "import pandas as pd\n",
        "import numpy as np\n",
        "import json\n",
        "\n",
        "#@markdown * ### Input the name of the app: \n",
        "app = \"sololearn\" #@param {type:\"string\"}\n",
        "applereviews = AppStore(country=\"us\", app_name=app)\n",
        "#@markdown * ### How many reviews?\n",
        "count = 100000 #@param {type:\"number\"}\n",
        "applereviews.review(how_many=count)\n",
        "applereviews.reviews\n",
        "applestoredf = pd.DataFrame(np.array(applereviews.reviews),columns=['review'])\n",
        "applestoredf2 = applestoredf.join(pd.DataFrame(applestoredf.pop('review').tolist()))\n",
        "#@markdown * ### Display data?\n",
        "visualize = \"Yes\" #@param [\"Yes\", \"No\"]\n",
        "if visualize == \"Yes\":\n",
        "  display(applestoredf2)\n",
        "else:\n",
        "  print(\"No display\")\n",
        "#@markdown * ### Save to csv?\n",
        "csv = \"No\" #@param [\"Yes\", \"No\"]\n",
        "if csv == \"Yes\":\n",
        "  applestoredf2.to_csv('applestore-review.csv') \n",
        "else:\n",
        "  print(\"No export\")"
      ],
      "metadata": {
        "id": "9zys68Gly3Kl",
        "cellView": "form"
      },
      "execution_count": null,
      "outputs": []
    },
    {
      "cell_type": "code",
      "execution_count": null,
      "metadata": {
        "id": "tnWMdISv7R6K",
        "cellView": "form"
      },
      "outputs": [],
      "source": [
        "#@title App Reviews from Google Store\n",
        "from google_play_scraper import app, search, Sort, reviews, reviews_all\n",
        "from pprint import pprint\n",
        "import pandas as pd\n",
        "import numpy as np\n",
        "import json\n",
        "#static variables:\n",
        "language = 'en'\n",
        "countries = 'us'\n",
        "appid = []\n",
        "\n",
        "def searches(nameofSearch):\n",
        "  result = search(\n",
        "    nameofSearch,\n",
        "    lang=\"en\",  # defaults to 'en'\n",
        "    country=\"us\",  # defaults to 'us'\n",
        "    n_hits=3  # defaults to 30 (= Google's maximum)\n",
        ")\n",
        "  return result\n",
        "\n",
        "def getAppId(r):\n",
        "  for d in r:\n",
        "    id = (d['appId'])\n",
        "    # appid.append(id)\n",
        "    return id\n",
        "\n",
        "def insertId(g, cont, rating, choice):\n",
        "\n",
        "  if choice == None:\n",
        "    if rating == None:\n",
        "      result, continuation_token = reviews(\n",
        "      g,\n",
        "      lang='en', # defaults to 'en'\n",
        "      country='us', # defaults to 'us'\n",
        "      sort=Sort.NEWEST, # defaults to Sort.NEWEST\n",
        "      count=cont # defaults to 100\n",
        "      # defaults to None(means all score)\n",
        "    )\n",
        "      return result\n",
        "    else:\n",
        "      result, continuation_token = reviews(\n",
        "      g,\n",
        "      lang='en', # defaults to 'en'\n",
        "      country='us', # defaults to 'us'\n",
        "      sort=Sort.NEWEST, # defaults to Sort.NEWEST\n",
        "      count=cont, # defaults to 100\n",
        "      filter_score_with=rating# defaults to None(means all score)\n",
        "    )\n",
        "      return result\n",
        " \n",
        "  else:\n",
        "    if rating == None:\n",
        "      result = reviews_all(\n",
        "      g,\n",
        "      sleep_milliseconds=0, # defaults to 0\n",
        "      lang='en', # defaults to 'en'\n",
        "      country='us', # defaults to 'us'\n",
        "      # sort=Sort.MOST_RELEVANT, # defaults to Sort.MOST_RELEVANT\n",
        "      filter_score_with=None\n",
        "      )\n",
        "      return result\n",
        "    else: \n",
        "      result = reviews_all(\n",
        "      g,\n",
        "      sleep_milliseconds=0, # defaults to 0\n",
        "      lang='en', # defaults to 'en'\n",
        "      country='us', # defaults to 'us'\n",
        "      # sort=Sort.MOST_RELEVANT, # defaults to Sort.MOST_RELEVANT\n",
        "      filter_score_with=rating # defaults to None(means all score)\n",
        "      )\n",
        "      return result\n",
        "\n",
        "def googleplay(a, ct, r, c):\n",
        "  searches1 = searches(a)\n",
        "  appId = getAppId(searches1)\n",
        "  reviews = insertId(appId, ct, r, c)\n",
        "  return reviews\n",
        "\n",
        "def googleplay1(a, ct, r, c):\n",
        "  searches1 = searches(a)\n",
        "  appId = getAppId(searches1)\n",
        "  reviews = insertId(appId, ct, r, c)\n",
        "  return reviews \n",
        "\n",
        "#@markdown * ### Input the name of the app: \n",
        "app = \"sololearn\" #@param {type:\"string\"}\n",
        "\n",
        "#@markdown * ### All reviews?\n",
        "choice = \"No\" #@param [\"Yes\", \"No\"]\n",
        "if choice == \"Yes\":\n",
        "  choice = \"Yes\"\n",
        "  count = None\n",
        "else:  \n",
        "  choice = None\n",
        "  #@markdown * ### How many reviews? (leave empty if you chose Yes to all reviews)\n",
        "  count = 100 #@param {type:\"number\"}\n",
        "#@markdown * ### Include specific rating?\n",
        "cond = \"No\" #@param [\"Yes\", \"No\"]  \n",
        "if cond == \"Yes\":\n",
        "  #@markdown * ### Input the rating: (0-5) (leave empty if you chose No to specific rating)\n",
        "  rating = 0 #@param {type:\"integer\"}\n",
        "else:\n",
        "  print(\"default rating\")\n",
        "  rating = None\n",
        "\n",
        "googleplaydf = pd.DataFrame(np.array(googleplay(app, count, rating, choice)),columns=['review'])\n",
        "googleplaydf2 = googleplaydf.join(pd.DataFrame(googleplaydf.pop('review').tolist()))\n",
        "\n",
        "\n",
        "#@markdown * ### Display data?\n",
        "visualize = \"Yes\" #@param [\"Yes\", \"No\"]\n",
        "if visualize == \"Yes\":\n",
        "  display(googleplaydf2)\n",
        "else:\n",
        "  print(\"No display\")\n",
        "\n",
        "#@markdown * ### Save to csv?\n",
        "csv = \"No\" #@param [\"Yes\", \"No\"]\n",
        "if csv == \"Yes\":\n",
        "  googleplaydf2.to_csv('googleplay-review.csv') \n",
        "else:\n",
        "  print(\"No export\")\n"
      ]
    },
    {
      "cell_type": "code",
      "source": [
        "import time\n",
        "\n",
        "result = reviews_all(\n",
        "      'com.sololearn',\n",
        "      sleep_milliseconds=0, # defaults to 0\n",
        "      lang='en', # defaults to 'en'\n",
        "      country='us', # defaults to 'us'\n",
        "      # sort=Sort.MOST_RELEVANT, # defaults to Sort.MOST_RELEVANT\n",
        "      # defaults to None(means all score)\n",
        "      )\n",
        "\n",
        "result1 = reviews_all(\n",
        "      'com.sololearn',\n",
        "      sleep_milliseconds= 0, # defaults to 0\n",
        "      lang='es', # defaults to 'en'\n",
        "      country='us', # defaults to 'us'\n",
        "      # sort=Sort.MOST_RELEVANT, # defaults to Sort.MOST_RELEVANT\n",
        "      # defaults to None(means all score)\n",
        "      )\n",
        "\n",
        "\n",
        "googleplaydf = pd.DataFrame(np.array(googleplay(app, count, rating, choice)),columns=['review'])\n",
        "googleplaydf2 = googleplaydf.join(pd.DataFrame(googleplaydf.pop('review').tolist()))\n",
        "\n",
        "googleplaydf3 = pd.DataFrame(np.array(googleplay(app, count, rating, choice)),columns=['review'])\n",
        "googleplaydf4 = googleplaydf3.join(pd.DataFrame(googleplaydf3.pop('review').tolist()))\n",
        "\n",
        "df5 = googleplaydf2.append(googleplaydf4, ignore_index=True)\n",
        "\n",
        "time.sleep(60)\n",
        "display(df5)"
      ],
      "metadata": {
        "id": "zUlC21s5m3FC"
      },
      "execution_count": null,
      "outputs": []
    },
    {
      "cell_type": "code",
      "source": [
        "df5.to_csv('googleplay-review.csv')"
      ],
      "metadata": {
        "id": "mdwUVsQFTHda"
      },
      "execution_count": null,
      "outputs": []
    },
    {
      "cell_type": "code",
      "source": [
        "result = search(\n",
        "    \"pokemon\",\n",
        "    lang=\"en\",  # defaults to 'en'\n",
        "    country=\"us\",  # defaults to 'us'\n",
        "    n_hits=3  # defaults to 30 (= Google's maximum)\n",
        ")\n",
        "print(result)"
      ],
      "metadata": {
        "colab": {
          "base_uri": "https://localhost:8080/"
        },
        "id": "QgyE9hnDgclY",
        "outputId": "b7ab08c0-aa74-4ab4-8a4b-6a3a31760126"
      },
      "execution_count": null,
      "outputs": [
        {
          "output_type": "stream",
          "name": "stdout",
          "text": [
            "[{'appId': 'com.nianticlabs.pokemongo', 'icon': 'https://play-lh.googleusercontent.com/MDaSgXlbRkftfjNIdJ2oHodVBVLOmVg2PevfdzJkbtlawfMA-8gMAs-kCfXXY5XyLw', 'screenshots': ['https://play-lh.googleusercontent.com/O-OR6Mh0AoNyiaYYaa3OJ_VHGfLqWW2qNzUUZxRRodD3fqs2Pm04FatavdNbz-jsMZM', 'https://play-lh.googleusercontent.com/HiLNXxmIpOl1jLBssHWcGqsQ58oUC5RvmS5tiX7L86mPHCG6wVEN-aX5OxTKAbDzh10', 'https://play-lh.googleusercontent.com/Il9B11lqrHX_Kd3QzLCA6hA6O7EsT56ItiLWMf1JkwcdmRyR3CE2KW_vR9w1izanO-JM', 'https://play-lh.googleusercontent.com/_84Pq9dJ0_iTKwx9-CkYFYoakSMKK_yfdrp1WSX-inE2XvCTr8ri2tKoISLHN_9PEvP5', 'https://play-lh.googleusercontent.com/JjgLXR7CMiQfSbtICOa86_35f7Pf8IzJn78zWQslwJn56Qm2O7BOV7xzXXE8mz3Vhg', 'https://play-lh.googleusercontent.com/iAYd9LdbFI7aajPU760XoNZ8b3woDQ58B0harYiUed2y7WQLU19fcj9I8yS-_K9BDQ', 'https://play-lh.googleusercontent.com/lpw5tz7Onf_6Sx4Q3kGX1zKXcec4EWpRyr9I4w5d3TrQMoorPWVke6veB5qmqhfQZn4', 'https://play-lh.googleusercontent.com/KgDQ-Kjb2B7_jDP-8KmQDNhAmP2lqAV_w3zArOCBL7YZnQ02Qqp4VTlgdocO-4MFk4s'], 'title': 'Pokémon GO', 'score': 4.2574773, 'genre': 'Adventure', 'price': 0, 'free': True, 'currency': 'USD', 'video': 'https://www.youtube.com/embed/p2C4QSgAf8M?ps=play&vq=large&rel=0&autohide=1&showinfo=0', 'videoImage': 'https://i.ytimg.com/vi/p2C4QSgAf8M/hqdefault.jpg', 'description': 'New! Now you can battle other Pokémon GO Trainers online! Try the GO Battle League today!\\r\\n\\r\\nJoin Trainers across the globe who are discovering Pokémon as they explore the world around them. Pokémon GO is the global gaming sensation that has been downloaded over 1 billion times and named “Best Mobile Game” by the Game Developers Choice Awards and “Best App of the Year” by TechCrunch.\\r\\n_______________\\r\\n\\r\\nUncover the world of Pokémon: Explore and discover Pokémon wherever you are!\\r\\n \\r\\nCatch more Pokémon to complete your Pokédex!\\r\\n \\r\\nJourney alongside your Buddy Pokémon to help make your Pokémon stronger and earn rewards!\\r\\n\\r\\nCompete in epic Gym battles and...Team up with other Trainers to catch powerful Pokémon during Raid Battles!\\r\\n \\r\\nIt’s time to get moving—your real-life adventures await! Let’s GO!\\r\\n_______________\\r\\n\\r\\nNotes: \\r\\n- This app is free-to-play and offers in-game purchases. It is optimized for smartphones, not tablets.\\r\\n- Compatible with Android devices that have 2GB RAM or more and have Android Version 6.0–10.0+ installed.\\r\\n- Compatibility is not guaranteed for devices without GPS capabilities or devices that are connected only to Wi-Fi networks.\\r\\n- Application may not run on certain devices even if they have compatible OS versions installed.\\r\\n- It is recommended to play while connected to a network in order to obtain accurate location information.\\r\\n- Compatibility information may be changed at any time.\\r\\n- Please visit PokemonGO.com for additional compatibility information. \\r\\n- Information current as of October 20, 2020.', 'descriptionHTML': 'New! Now you can battle other Pokémon GO Trainers online! Try the GO Battle League today!<br><br>Join Trainers across the globe who are discovering Pokémon as they explore the world around them. Pokémon GO is the global gaming sensation that has been downloaded over 1 billion times and named “Best Mobile Game” by the Game Developers Choice Awards and “Best App of the Year” by TechCrunch.<br>_______________<br><br>Uncover the world of Pokémon: Explore and discover Pokémon wherever you are!<br> <br>Catch more Pokémon to complete your Pokédex!<br> <br>Journey alongside your Buddy Pokémon to help make your Pokémon stronger and earn rewards!<br><br>Compete in epic Gym battles and...Team up with other Trainers to catch powerful Pokémon during Raid Battles!<br> <br>It’s time to get moving—your real-life adventures await! Let’s GO!<br>_______________<br><br>Notes: <br>- This app is free-to-play and offers in-game purchases. It is optimized for smartphones, not tablets.<br>- Compatible with Android devices that have 2GB RAM or more and have Android Version 6.0–10.0+ installed.<br>- Compatibility is not guaranteed for devices without GPS capabilities or devices that are connected only to Wi-Fi networks.<br>- Application may not run on certain devices even if they have compatible OS versions installed.<br>- It is recommended to play while connected to a network in order to obtain accurate location information.<br>- Compatibility information may be changed at any time.<br>- Please visit PokemonGO.com for additional compatibility information. <br>- Information current as of October 20, 2020.', 'developer': 'Niantic, Inc.', 'installs': '100,000,000+'}, {'appId': 'jp.pokemon.pokemonunite', 'icon': 'https://play-lh.googleusercontent.com/nWNu4kO5KdhPTvV2UVWEEwWk1bHMphRfUWrQJvqKim_92Sx8AYm6KrMWws730YKtLA', 'screenshots': ['https://play-lh.googleusercontent.com/CFhI0l8PU_Lej628yhI5OHFUSgKXeYYJNqUdW8tQuilzG7HeXLzXtWOrIl60WsCqpRAu', 'https://play-lh.googleusercontent.com/VD44QhUgTG9eOvL5J8R0RLzw2xnKQCwSnakj7VUyDxvyyoXj1Ys-JMYVIuK_yZXRUgM', 'https://play-lh.googleusercontent.com/fdvQ4Ro-vrApo5cy5i3_v-956FHJ6gS4nemdl32hhLM_veUPrkZ0MFyXbc06kSVahJI', 'https://play-lh.googleusercontent.com/nG_3JOo4BWuAw0ihuLcqIOsuv2pU4qJnztuk21YgzYa4pr82eZldpKxWsEbv2e09HA', 'https://play-lh.googleusercontent.com/2Odoh-s67q1y8tUriPT2gTg_yYnoBixMcyhXOp-iViYP8Iry-gnju0nc7_T7wAgGIic', 'https://play-lh.googleusercontent.com/Dbot6wLtPBuUrPnHh-dRRiIbHvMa0QHoGfxdcSNyorAigIHpXi3D9CnRRZTQGLah8A', 'https://play-lh.googleusercontent.com/Mw_tKBQBt2BIZhdLKtGXvqIOXpMb9PJElhNIFEDJjnI7Xz4w42WUrthFEn3hYOp-HAU', 'https://play-lh.googleusercontent.com/LSEtXCUpj9TG6yFQHLXfuHcFqZdMbbSVLyzhaWNLdSVgPksTSIT8F43drx5Is4tg0vo', 'https://play-lh.googleusercontent.com/ELGTzsSUE421Zkd5IBesQz7kyXnDydL0bqLnO_wIYqjlD7PInvMHnynKaDbi9wTEJw', 'https://play-lh.googleusercontent.com/osBzfs_Xx1HlWPFgsV3VT3i0lWen1Te93px5rRgy6MeNU26Oc5skkcyMy1gDWX3u4KQ', 'https://play-lh.googleusercontent.com/-6QmbmfnL4po1T_rRE_JL_RFhDOALXGU4HfCkSnbQtxl5lghbP37CvGMdbqZf2SFtQc-', 'https://play-lh.googleusercontent.com/TySjFREwIAhYiyBKCNBaNVty_NPRtMqgkwSznPpxYACn3H6UiEeJ5nhklE0K2QQ5otSv', 'https://play-lh.googleusercontent.com/LEuxqmwuxS-LTfVTZFv6Jh4fUdLVxfrvzv0c5aP1LlNm4HwYLvpGfTIhc--NUI_Ewg', 'https://play-lh.googleusercontent.com/kzQFfz2mObr19MTJtdFCyrugPTJhE5QWTKy55kNPG1HV9Ja6RMvVIS2J2mOoXFjHgB4', 'https://play-lh.googleusercontent.com/Qaq7kr8KE1Qo-cfyHkA1pW0LdUJ9tCIsv6MoR04ptjJ__tTR515ADboht6Fyw05qtg', 'https://play-lh.googleusercontent.com/n0ePmcqDi8hFIZMbWhwh3sHoySw4S0KAWRIoM9JSO3a-bWl1Z4kiQpwzEDAWSbEC1dw', 'https://play-lh.googleusercontent.com/XZvhBTdAJRTHYBhI810E0P6Vighu5XnFjwa2O9Btuu0Qs0KoSTHTCumftEbqW0F-IBM', 'https://play-lh.googleusercontent.com/TTwHvnUDoVEHTy0httxDzHOFcPba3LZOD6CmeF6fpOq9J3XMTxbzk4sxMgmAfUVK-__X', 'https://play-lh.googleusercontent.com/cjkaP0ofmMW_lvFFHuIs_ziu-Huo9ScMxLWOKES_xaaonh2U86g04rTGPPYoHEphedA', 'https://play-lh.googleusercontent.com/4unaJpXTaozuOOtSqBrKRbBlm2L3ijwaWXeRV07VNdrTlGdn77o4I8rfgBOOEY2zg3sd', 'https://play-lh.googleusercontent.com/GuJbJUpMOoFP3EB3ZvXXCbXrY0Ka7I-dOQJog_7fTTmKQSEXVB0cE6FHa8NDboqUnBk', 'https://play-lh.googleusercontent.com/kTCAe9Zg9RkHxDEm_ayLYUamY7V1VxXv5TFt6HbyfhNpuWsjNkQ5AYokxb-MNy_jkA', 'https://play-lh.googleusercontent.com/xaRwb8VCogFRLEqM6efU1uZABSiQSaFzuEGcOIXwPOnM94DjO67xCmLPoZtKF_ah458', 'https://play-lh.googleusercontent.com/NtfZkKc0kev95ptZY4KOSm4nCfXRDBT2Ky0WLdDnW1mWaqTLUS8qXAwOoQxAM30Rw_JJ', 'https://play-lh.googleusercontent.com/vyjsjwb5axTByS8A4DgRdhQI4NiQJ2XJxaZbWk7Rzy5ldrwOavgQmHacPaUwqckWBaY'], 'title': 'Pokémon UNITE', 'score': 4.466251, 'genre': 'Action', 'price': 0, 'free': True, 'currency': 'USD', 'video': 'https://www.youtube.com/embed/EUbBD3w9rSc?ps=play&vq=large&rel=0&autohide=1&showinfo=0', 'videoImage': 'https://i.ytimg.com/vi/EUbBD3w9rSc/hqdefault.jpg', 'description': 'Team up and take down the opposition in Pokémon’s first 5-on-5 strategic team battle game!\\r\\n \\r\\n Join Trainers from around the world as they head for Aeos Island to compete in Unite Battles! In Unite Battles, Trainers face off in 5-on-5 team battles to see who can score the most points within the allotted time. Teamwork is key as you and your teammates defeat wild Pokémon, level up, evolve your own Pokémon, and work to prevent the opposing team from scoring points. Put your teamwork to the test, and take home the win!\\r\\n  \\r\\n Key Features:\\r\\n \\r\\n • BATTLE IN STYLE: Take to the field while looking your best in Holowear! Thanks to a special technology developed using Aeos energy, Trainers can deck out their Pokémon in a variety of holographic outfits—with new styles arriving regularly!\\r\\n \\r\\n • UNITE MOVES: Unleash the true power of your Pokémon with Unite Moves! Leverage these all-new Pokémon moves, which are only possible while in Unite Battles, and turn the tide of even the direst situations.\\r\\n \\r\\n • RANK UP: Looking to prove how skilled you are? Participate in ranked matches, and earn points as you climb up the global leaderboard!\\r\\n \\r\\n • COMMUNICATION IS KEY: Even the most-skilled Trainers recognize how important communication is to their team’s success. Leverage signals, quick-chat messages, and—for the first time in a Pokémon title—voice chat to communicate and stay in sync with your team.\\r\\n \\r\\n • CROSS-PLATFORM PLAY: Challenge Trainers from around the world to Unite Battles on the Nintendo Switch™ system or on a compatible mobile device thanks to cross-platform support. Trainers may use their Pokémon Trainer Club account or Nintendo Account on both Nintendo Switch and mobile to easily keep their progress synced between devices. \\r\\n \\r\\n Check out the official website for more information, and follow Pokémon UNITE on Twitter for all the latest news.\\r\\n \\r\\n ------------------------------------------------------------\\r\\n Official Website: http://PokemonUNITE.com/\\r\\n Official Twitter: https://twitter.com/PokemonUNITE/\\r\\n Terms of Use: https://www.apppokemon.com/pokemon-unite/kiyaku/kiyaku003/rule/detail/#anchor_en\\r\\n \\r\\n Legal:\\r\\n • This is a free-to-start game; optional in-game purchases available. Data charges may apply.\\r\\n • An internet connection is required to play the game.', 'descriptionHTML': 'Team up and take down the opposition in Pokémon’s first 5-on-5 strategic team battle game!<br> <br> Join Trainers from around the world as they head for Aeos Island to compete in Unite Battles! In Unite Battles, Trainers face off in 5-on-5 team battles to see who can score the most points within the allotted time. Teamwork is key as you and your teammates defeat wild Pokémon, level up, evolve your own Pokémon, and work to prevent the opposing team from scoring points. Put your teamwork to the test, and take home the win!<br>  <br> Key Features:<br> <br> • BATTLE IN STYLE: Take to the field while looking your best in Holowear! Thanks to a special technology developed using Aeos energy, Trainers can deck out their Pokémon in a variety of holographic outfits—with new styles arriving regularly!<br> <br> • UNITE MOVES: Unleash the true power of your Pokémon with Unite Moves! Leverage these all-new Pokémon moves, which are only possible while in Unite Battles, and turn the tide of even the direst situations.<br> <br> • RANK UP: Looking to prove how skilled you are? Participate in ranked matches, and earn points as you climb up the global leaderboard!<br> <br> • COMMUNICATION IS KEY: Even the most-skilled Trainers recognize how important communication is to their team’s success. Leverage signals, quick-chat messages, and—for the first time in a Pokémon title—voice chat to communicate and stay in sync with your team.<br> <br> • CROSS-PLATFORM PLAY: Challenge Trainers from around the world to Unite Battles on the Nintendo Switch™ system or on a compatible mobile device thanks to cross-platform support. Trainers may use their Pokémon Trainer Club account or Nintendo Account on both Nintendo Switch and mobile to easily keep their progress synced between devices. <br> <br> Check out the official website for more information, and follow Pokémon UNITE on Twitter for all the latest news.<br> <br> ------------------------------------------------------------<br> Official Website: http://PokemonUNITE.com/<br> Official Twitter: https://twitter.com/PokemonUNITE/<br> Terms of Use: https://www.apppokemon.com/pokemon-unite/kiyaku/kiyaku003/rule/detail/#anchor_en<br> <br> Legal:<br> • This is a free-to-start game; optional in-game purchases available. Data charges may apply.<br> • An internet connection is required to play the game.', 'developer': 'The Pokémon Company', 'installs': '50,000,000+'}, {'appId': 'jp.pokemon.pokemonquest', 'icon': 'https://play-lh.googleusercontent.com/EgO34BOGEhnGGd0Yk4HRppcYAF8RNF7-WCe0Y2j6rzvn5CGQlrQj6BxaCRT5h7PdnA', 'screenshots': ['https://play-lh.googleusercontent.com/QB-ubcTj4sf4z_csdjlyaPZ1_7Gqncq52zhiwyo1KfI9SZTAu6E1n6SMYmcqd0UhVGU', 'https://play-lh.googleusercontent.com/UNWGY7ypjsBGjCbXypi5-10mU-pyUDRXzyAffxL3x9622tS3HAJpg7UDoOohxCcLTYYz', 'https://play-lh.googleusercontent.com/PCPJYw2gTSW2xHVKrN9s9Aw_cvx1yJ5ty7pbjlorHqogKX01Yf-iVUTcrdmRIHsWDpI', 'https://play-lh.googleusercontent.com/Hb1iRI3fOQ2ci9xZMeOfFIR_msFM-1nr8NycowTGghiniI4-fjR_vq0RtI0PRgOFeg', 'https://play-lh.googleusercontent.com/32u-Msk7xp8b7LufZS9sVXZRIsjwXYqbWIZ7rAjpr40dtAY6ZiHFdghlL7ILHxlfpLZA', 'https://play-lh.googleusercontent.com/s9_PfRTCknm4_dSaTuoFUd2UhwInQhqASu57koEIsGwzJ2EKzYG7JPoLNIY6rZdk_w', 'https://play-lh.googleusercontent.com/MnGR3nqCBzkpuR5muXSrQAed87WZgqiZ4ZoRyeO5Ano8d-WORPsx6tkaHgnt1ZD7qlk', 'https://play-lh.googleusercontent.com/bmIWu-BVx4Qctw9ox_0XnS97PsB-WraUxN9bLh0ansEdeyEprMTne1sezSiPxShw7A', 'https://play-lh.googleusercontent.com/RyqxFLX60Ha9zDoDTpDUCrK40AGrjc-s5u1Q4nH-PxEzsLO7QUDLNGpNhG_miqPkVtw', 'https://play-lh.googleusercontent.com/CDeNV-GkbE4kAGGmo7jZk_Jpb8GqihOTXdE3ZvUvVAcmkgXaMUoLnXztFZhj80RF6-s', 'https://play-lh.googleusercontent.com/cBI9lQAjA59OnehbjdJzX2gds0pqlRVvr8jW4w-THA8AGyfepelRxKmLhd1JAUWKQ87q', 'https://play-lh.googleusercontent.com/XKVApDb2mz6BusRs7ncQBkQpGkIT_y2C7lieVfJal9oEt4O5WVRtwx7VQsaaG-fUyZk', 'https://play-lh.googleusercontent.com/3vWI3UrhKX6oLgJoTrDZJtbQnS3Clc78H29np6GN0_aUis5IVSvwlJz4AXBjvaaExw'], 'title': 'Pokémon Quest', 'score': 4.2802076, 'genre': 'Role Playing', 'price': 0, 'free': True, 'currency': 'USD', 'video': None, 'videoImage': None, 'description': \"• The Pokémon you know and love have turned into...cubes?! Head out in search of  treasure with your cube-shaped Pokémon buddies on Tumblecube Island—a land where everything is a cube! Your goal is to find the awesome goodies said to be hidden on the island ! The Pokémon you know and love from Pokémon Red and Pokémon Blue appear in this game.\\r\\n\\r\\n• Battle by tapping! The simple controls make for lively and fun battles! Danger is lurking, so you’ll need the help of your Pokémon buddies on your expeditions on the island. When wild Pokémon appear, your Pokémon will battle ferociously and knock them out one after another!\\r\\n\\r\\n• Befriend Pokémon to make your own unique team!\\r\\nYou can use the items you get from your expeditions to befriend more Pokémon or make your Pokémon stronger. Make more buddies to create a team that’s all your own, and head out on more expeditions!\\r\\n\\r\\n• Spruce up your base camp with cute decorations!\\r\\nYour base camp is your home for this adventure, and you can spruce it up however you like with cute and fun decorations! These decorations can also make your expeditions on the island more beneficial.\\r\\n\\r\\n■ Notes \\r\\n  ・ Terms of Use\\r\\n  Please read the Terms of Use before using this application.\\r\\n  \\r\\n  ・ Saved data\\r\\n Your play data for this game will only be saved on your local device. You can only store saved data on the server by using the backup function within the application. We recommend that players back up their data often.\\r\\n  \\r\\n  ・ Compatible operating systems \\r\\nAndroid: Android OS 4.4 or higher, 2 GB or more RAM \\r\\nNote: This application may not be compatible with some devices even if they have a compatible operating system. \\r\\nNote: This application may not function properly on some devices due to individual differences in customers' operating systems or methods of use. \\r\\n\\r\\n  ・ Connection environment \\r\\n A poor internet connection when communicating with the server from within the game, such as when you're buying items from the shop, can lead to your data becoming corrupted or lost. Please make sure you are in a location with good reception when using features that rely on an internet connection.\\r\\n\\r\\n If communication is lost momentarily, you may be able to resume play in some cases by trying again a short time later. Please note that we're unable to assist you if you experience problems due to communication errors. \\r\\n\\r\\n  ・ Before making purchases \\r\\n Please make sure that you can use the free-of-charge features of this product with no issues on your device before you make purchases. Certain devices and/or configurations may also cause the application to fail to work. \\r\\n\\r\\n  ・ For inquiries \\r\\n Please visit support.pokemon.com to report issues about Pokémon Quest.\", 'descriptionHTML': '• The Pokémon you know and love have turned into...cubes?! Head out in search of  treasure with your cube-shaped Pokémon buddies on Tumblecube Island—a land where everything is a cube! Your goal is to find the awesome goodies said to be hidden on the island ! The Pokémon you know and love from Pokémon Red and Pokémon Blue appear in this game.<br><br>• Battle by tapping! The simple controls make for lively and fun battles! Danger is lurking, so you’ll need the help of your Pokémon buddies on your expeditions on the island. When wild Pokémon appear, your Pokémon will battle ferociously and knock them out one after another!<br><br>• Befriend Pokémon to make your own unique team!<br>You can use the items you get from your expeditions to befriend more Pokémon or make your Pokémon stronger. Make more buddies to create a team that’s all your own, and head out on more expeditions!<br><br>• Spruce up your base camp with cute decorations!<br>Your base camp is your home for this adventure, and you can spruce it up however you like with cute and fun decorations! These decorations can also make your expeditions on the island more beneficial.<br><br>■ Notes <br>  ・ Terms of Use<br>  Please read the Terms of Use before using this application.<br>  <br>  ・ Saved data<br> Your play data for this game will only be saved on your local device. You can only store saved data on the server by using the backup function within the application. We recommend that players back up their data often.<br>  <br>  ・ Compatible operating systems <br>Android: Android OS 4.4 or higher, 2 GB or more RAM <br>Note: This application may not be compatible with some devices even if they have a compatible operating system. <br>Note: This application may not function properly on some devices due to individual differences in customers&#39; operating systems or methods of use. <br><br>  ・ Connection environment <br> A poor internet connection when communicating with the server from within the game, such as when you&#39;re buying items from the shop, can lead to your data becoming corrupted or lost. Please make sure you are in a location with good reception when using features that rely on an internet connection.<br><br> If communication is lost momentarily, you may be able to resume play in some cases by trying again a short time later. Please note that we&#39;re unable to assist you if you experience problems due to communication errors. <br><br>  ・ Before making purchases <br> Please make sure that you can use the free-of-charge features of this product with no issues on your device before you make purchases. Certain devices and/or configurations may also cause the application to fail to work. <br><br>  ・ For inquiries <br> Please visit support.pokemon.com to report issues about Pokémon Quest.', 'developer': 'The Pokémon Company', 'installs': '10,000,000+'}]\n"
          ]
        }
      ]
    },
    {
      "cell_type": "code",
      "source": [
        "# !pip install pycountry\n",
        "import pycountry\n",
        "\n",
        "len(pycountry.countries)\n",
        "list(pycountry.countries)"
      ],
      "metadata": {
        "id": "07-YRS3naBnC"
      },
      "execution_count": null,
      "outputs": []
    },
    {
      "cell_type": "code",
      "source": [
        "result1 = reviews_all(\n",
        "      'com.nianticlabs.pokemongo',\n",
        "      sleep_milliseconds= 0, # defaults to 0\n",
        "      # lang='es', # defaults to 'en'\n",
        "      country='us', # defaults to 'us'\n",
        "      # sort=Sort.MOST_RELEVANT, # defaults to Sort.MOST_RELEVANT\n",
        "      # defaults to None(means all score)\n",
        "      )\n",
        "\n",
        "googleplaydf = pd.DataFrame(np.array(result1),columns=['review'])\n",
        "googleplaydf2 = googleplaydf.join(pd.DataFrame(googleplaydf.pop('review').tolist()))\n",
        "display(googleplaydf2)"
      ],
      "metadata": {
        "id": "X2blqhgcktID"
      },
      "execution_count": null,
      "outputs": []
    }
  ],
  "metadata": {
    "colab": {
      "provenance": []
    },
    "kernelspec": {
      "display_name": "Python 3",
      "name": "python3"
    },
    "language_info": {
      "name": "python"
    }
  },
  "nbformat": 4,
  "nbformat_minor": 0
}