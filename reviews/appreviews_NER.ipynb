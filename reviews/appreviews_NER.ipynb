{
  "cells": [
    {
      "cell_type": "code",
      "execution_count": 1,
      "metadata": {
        "colab": {
          "base_uri": "https://localhost:8080/"
        },
        "id": "XO2FWFgyjqia",
        "outputId": "b5b79a6e-2af3-4fc8-c735-e467c5972a0e"
      },
      "outputs": [
        {
          "name": "stdout",
          "output_type": "stream",
          "text": [
            "All modules required were sucessfully installed!\n"
          ]
        }
      ],
      "source": [
        "#@title Installing needed dependencies!\n",
        "from IPython.display import clear_output\n",
        "try:\n",
        "    import flair\n",
        "    from flair.data import Sentence\n",
        "    from flair.models import SequenceTagger\n",
        "    from tqdm import tqdm\n",
        "    import os\n",
        "    import sys\n",
        "    import pandas as pd\n",
        "    print(\"Modules required are already installed!\")\n",
        "except ModuleNotFoundError:\n",
        "    %pip install flair\n",
        "    clear_output()\n",
        "    %pip install tqdm\n",
        "    clear_output()\n",
        "    %pip install pandas\n",
        "    clear_output()\n",
        "    print(\"All modules required were sucessfully installed!\")"
      ]
    },
    {
      "cell_type": "code",
      "execution_count": 4,
      "metadata": {
        "colab": {
          "base_uri": "https://localhost:8080/"
        },
        "id": "POQj69B-kIHI",
        "outputId": "a8f8b960-c8d9-4f53-b009-9dd50ad0ecba"
      },
      "outputs": [
        {
          "name": "stdout",
          "output_type": "stream",
          "text": [
            "2023-04-07 02:42:33,318 SequenceTagger predicts: Dictionary with 20 tags: <unk>, O, S-ORG, S-MISC, B-PER, E-PER, S-LOC, B-ORG, E-ORG, I-PER, S-PER, B-MISC, I-MISC, E-MISC, I-ORG, B-LOC, E-LOC, I-LOC, <START>, <STOP>\n"
          ]
        }
      ],
      "source": [
        "#@title Load model\n",
        "\n",
        "import flair\n",
        "from flair.data import Sentence\n",
        "from flair.models import SequenceTagger\n",
        "from tqdm import tqdm\n",
        "import os\n",
        "import sys\n",
        "import pandas as pd\n",
        "\n",
        "# Initialize Flair Sentiment Classifier\n",
        "tagger = SequenceTagger.load(\"flair/ner-english-large\")"
      ]
    },
    {
      "cell_type": "code",
      "execution_count": null,
      "metadata": {
        "colab": {
          "base_uri": "https://localhost:8080/"
        },
        "id": "Yg2IYRYVke7-",
        "outputId": "3a4d8c1d-f98f-4d12-d061-870f66024350"
      },
      "outputs": [
        {
          "name": "stderr",
          "output_type": "stream",
          "text": [
            "59it [00:31,  1.53it/s]"
          ]
        }
      ],
      "source": [
        "#@title App Reviews with NER\n",
        "\n",
        "#@markdown * ### Pick store:\n",
        "store = \"Google Play Store\" #@param [\"App Store\", \"Google Play Store\"]\n",
        "#@markdown * ### Pick app: \n",
        "app = \"encode\" #@param [\"codeacademy\", \"datacamp\", \"encode\", \"learn-python-programiz\", \"mimo\", \"programming-hero\", \"programming-hub\", \"python-x\", \"sololearn\"]\n",
        "\n",
        "dir = \"https://raw.githubusercontent.com/lopezbec/AI_Gamification_Python/main/reviews/review-files/\"\n",
        "\n",
        "if store == \"App Store\":\n",
        "    input_file = \"applestore-review-\" + app + \".csv\"\n",
        "else:\n",
        "    input_file = \"googleplay-review-\" + app + \".csv\"\n",
        "\n",
        "# Load the CSV file into a dataframe\n",
        "df = pd.read_csv(dir + input_file)\n",
        "\n",
        "output_df = pd.DataFrame(columns=['reviewId', 'NER_Text', 'Start_Pos', 'Eng_Pos', 'NER_Label', 'Prob'])\n",
        "\n",
        "# iterate over each row of the input dataframe\n",
        "for index, row in tqdm( df.iterrows()):\n",
        "    # get the content and content_ID from the current row\n",
        "    if store == \"App Store\":\n",
        "      content = row['review']\n",
        "    else:\n",
        "      content = row['content']\n",
        "    content_id = row[0]\n",
        "    try: \n",
        "    # create a Flair sentence from the content\n",
        "        sentence = Sentence(content)\n",
        "   # print(sentence)\n",
        "    # run NER on the sentence\n",
        "        tagger.predict(sentence)\n",
        "    except:\n",
        "        continue\n",
        "    \n",
        "    # iterate over each entity in the sentence and add it to the output dataframe\n",
        "    for entity in sentence.get_spans('ner'):\n",
        "        \n",
        "        new_row = pd.Series({\n",
        "            'reviewId': content_id,\n",
        "            'NER_Text': entity.text,\n",
        "            'Start_Pos': entity.start_position,\n",
        "            'End_Pos': entity.end_position,\n",
        "            'NER_Label': entity.tag,\n",
        "            'Prob': entity.score})\n",
        "\n",
        "        output_df = pd.concat([output_df, new_row.to_frame().T], ignore_index=True)\n",
        "\n",
        "#@markdown * ### Display data?\n",
        "visualize = \"Yes\" #@param [\"Yes\", \"No\"]\n",
        "if visualize == \"Yes\":\n",
        "    display(output_df)\n",
        "else:\n",
        "    print(\"No display\")\n",
        "#@markdown * ### Save to csv?\n",
        "csv = \"Yes\" #@param [\"Yes\", \"No\"]\n",
        "if csv == \"Yes\":\n",
        "    # Get the output file name by appending \"_sentiment\" before the file extension\n",
        "    output_file = os.path.splitext(input_file)[0] + \"_NER.csv\"\n",
        "    # Save the new CSV file with sentiment column\n",
        "    output_df.to_csv(output_file, index=False)\n",
        "else:\n",
        "    print(\"No export\")"
      ]
    }
  ],
  "metadata": {
    "colab": {
      "provenance": []
    },
    "kernelspec": {
      "display_name": "Python 3",
      "name": "python3"
    },
    "language_info": {
      "name": "python"
    }
  },
  "nbformat": 4,
  "nbformat_minor": 0
}
