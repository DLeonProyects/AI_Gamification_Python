{
 "cells": [
  {
   "cell_type": "code",
   "execution_count": 1,
   "metadata": {},
   "outputs": [],
   "source": [
    "import pandas as pd\n",
    "import numpy as np\n",
    "import os\n",
    "import sys"
   ]
  },
  {
   "cell_type": "code",
   "execution_count": 14,
   "metadata": {},
   "outputs": [],
   "source": [
    "# Combining reviews\n",
    "\n",
    "with open('../googleplay-apps.txt') as appfile:\n",
    "    line = appfile.readline()\n",
    "\n",
    "    while(line):\n",
    "        app = line.strip()\n",
    "\n",
    "        applestoredf = pd.read_csv('../review-files-sentiment/applestore-review-' + app + '_sentiment.csv')\n",
    "        googleplaydf = pd.read_csv('../review-files-sentiment/googleplay-review-' + app + '_sentiment.csv')\n",
    "        googleplaydf = googleplaydf.rename(columns={\"content\": \"review\", \"score\": \"rating\", \"at\": \"date\"})\n",
    "        cdf = pd.concat([applestoredf, googleplaydf], ignore_index=True)\n",
    "\n",
    "        cdf.to_csv('review-files-combined/combined-review-' + app + '_sentiment.csv', index=False)\n",
    "        line = appfile.readline()"
   ]
  },
  {
   "cell_type": "code",
   "execution_count": null,
   "metadata": {},
   "outputs": [],
   "source": [
    "# Standardize reviews\n",
    "\n",
    "import string\n",
    "import re\n",
    "from unidecode import unidecode\n",
    "import nltk\n",
    "from nltk.corpus import stopwords\n",
    "\n",
    "def standardize(text):\n",
    "    # Convert to lowercase\n",
    "    text = text.lower()\n",
    "    \n",
    "    # Remove leading/trailing whitespace\n",
    "    text = text.strip()\n",
    "    \n",
    "    # Remove punctuation\n",
    "    text = re.sub(r'[^\\w\\s]', '', text)\n",
    "    \n",
    "    # Remove diacritics and accents\n",
    "    text = unidecode(text)\n",
    "\n",
    "    # Tokenization\n",
    "    text = text.split()\n",
    "\n",
    "    # Remove stopwords\n",
    "    stop_words = set(stopwords.words(\"english\"))\n",
    "    text = [word for word in text if word not in stop_words]\n",
    "\n",
    "    # Return the standardized string\n",
    "    return ' '.join(text)\n",
    "\n",
    "\n",
    "filelist = [file for file in os.listdir('review-files-combined/')]\n",
    "\n",
    "\n",
    "for file in filelist:\n",
    "    print(file)\n",
    "\n",
    "    df = pd.read_csv('review-files-combined/' + file)\n",
    "    df['review'] = df['review'].astype('str')\n",
    "\n",
    "    df['standardizedReview'] = df['review'].apply(standardize)\n",
    "\n",
    "    output_file = os.path.splitext(file)[0] + '_standardized.csv'\n",
    "\n",
    "    df.to_csv('review-files-combined-standardized/' + output_file, index=False)\n",
    "    "
   ]
  },
  {
   "cell_type": "code",
   "execution_count": 32,
   "metadata": {},
   "outputs": [
    {
     "name": "stdout",
     "output_type": "stream",
     "text": [
      "              Feature                 Synonym              Stem   \n",
      "0       daily streaks           daily streaks      daily streak  \\\n",
      "1       daily streaks  consecutive engagement      daily streak   \n",
      "2       daily streaks           habit-forming      daily streak   \n",
      "3       daily streaks           daily rewards      daily streak   \n",
      "4       daily streaks           daily bonuses      daily streak   \n",
      "..                ...                     ...               ...   \n",
      "375  status quo sloth          accountability  status quo sloth   \n",
      "376  status quo sloth            leaderboards  status quo sloth   \n",
      "377  status quo sloth       progress tracking  status quo sloth   \n",
      "378  status quo sloth    long-term engagement  status quo sloth   \n",
      "379  status quo sloth     sustained retention  status quo sloth   \n",
      "\n",
      "           SynonymStem  \n",
      "0         daily streak  \n",
      "1    consecutive engag  \n",
      "2           habit-form  \n",
      "3         daily reward  \n",
      "4          daily bonus  \n",
      "..                 ...  \n",
      "375            account  \n",
      "376        leaderboard  \n",
      "377     progress track  \n",
      "378    long-term engag  \n",
      "379   sustained retent  \n",
      "\n",
      "[380 rows x 4 columns]\n",
      "              Feature                 Synonym              Stem   \n",
      "0       daily streaks           daily streaks      daily streak  \\\n",
      "1       daily streaks  consecutive engagement      daily streak   \n",
      "2       daily streaks           habit-forming      daily streak   \n",
      "3       daily streaks           daily rewards      daily streak   \n",
      "4       daily streaks           daily bonuses      daily streak   \n",
      "..                ...                     ...               ...   \n",
      "375  status quo sloth          accountability  status quo sloth   \n",
      "376  status quo sloth            leaderboards  status quo sloth   \n",
      "377  status quo sloth       progress tracking  status quo sloth   \n",
      "378  status quo sloth    long-term engagement  status quo sloth   \n",
      "379  status quo sloth     sustained retention  status quo sloth   \n",
      "\n",
      "           SynonymStem  \n",
      "0         daily streak  \n",
      "1    consecutive engag  \n",
      "2            habitform  \n",
      "3         daily reward  \n",
      "4          daily bonus  \n",
      "..                 ...  \n",
      "375            account  \n",
      "376        leaderboard  \n",
      "377     progress track  \n",
      "378     longterm engag  \n",
      "379   sustained retent  \n",
      "\n",
      "[380 rows x 4 columns]\n",
      "defaultdict(<class 'set'>, {'daily streaks': {'daily progress', 'daily reward', 'habitform', 'daily routin', 'daily remind', 'gamified consist', 'consecutive engag', 'daily challeng', 'gamified habit', 'daily checkin', 'sense accomplish', 'daily habit', 'gamified incent', 'motivation engag', 'daily motiv', 'daily bonus', 'gamified routin', 'sense progress', 'gamified track', 'daily streak'}, 'points system': {'gamified point', 'gamified motiv', 'point reward', 'point accumul', 'points system', 'pointbased reward', 'gamified recognit', 'sense accomplish', 'point track', 'gamified incent', 'pointbased feedback', 'gamified measur', 'pointbased motiv', 'level advanc', 'point valu', 'gamified feedback', 'leaderboard competit', 'gamified reward', 'sense progress', 'pointbased recognit'}, 'progress bar': {'goal progress', 'progress feedback', 'goal set', 'milestone track', 'visual progress', 'visual feedback', 'progress visu', 'sense accomplish', 'progress incent', 'task complet', 'progress display', 'milestone recognit', 'gamified progress', 'progress bar', 'goaloriented feedback', 'progress recognit', 'gamified feedback', 'progress represent', 'progress track', 'sense progress'}, 'strike habit/competition': {'behavior track', 'social leaderboard', 'social recognit', 'progress incent', 'social comparison', 'habit competit', 'social support', 'progress comparison', 'competition mechan', 'community engag', 'social account', 'strike habit', 'social platform', 'friendly competit', 'peer motiv', 'challenge mod', 'progress track', 'social incent', 'social go', 'social reward'}, 'social discovery': {'social discovery featur', 'social network', 'algorithmic match', 'interest match', 'social group', 'social match', 'community involv', 'group particip', 'social engag', 'social commun', 'social discoveri', 'social connect', 'social networking reward', 'social profil', 'interestbased connect', 'community incent', 'matchmak', 'community build', 'community recognit', 'social reward'}, 'challenges': {'strategic challeng', 'challenge incent', 'taskoriented challeng', 'questbased challeng', 'daily challeng', 'challenge complet', 'skillbuilding challeng', 'sense accomplish', 'narrativebased challeng', 'challeng', 'missionoriented challeng', 'timebound challeng', 'progressoriented challeng', 'objectivebased challeng', 'challenge recognit', 'monthly challeng', 'weekly challeng', 'challenge reward', 'timed challeng', 'progress track'}, 'leaderboard/competition': {'performance rank', 'realtime rank', 'leaderboard', 'collaboration mechan', 'user scor', 'competitive rank', 'competitive incent', 'social recognit', 'social engag', 'social comparison', 'performance track', 'ranking incent', 'user rank', 'competition mechan', 'performancebased reward', 'challenge reward', 'competition recognit', 'scoreboard', 'performance metr', 'social reward'}, 'boosters': {'skill boost', 'timelimited bonus', 'difficulty reduc', 'engagement incent', 'incentive mechan', 'progress acceler', 'challenge reduc', 'timelimited advantag', 'special', 'power boost', 'powerup', 'game enhanc', 'performance boost', 'temporary advantag', 'temporary benefit', 'achievement boost', 'performance enhanc', 'resource boost', 'booster', 'experience boost'}, 'virtual economy': {'ingame trad', 'resource consumpt', 'game curr', 'achievement recognit', 'game economi', 'trading system', 'virtual servic', 'reward point', 'virtual good', 'social recognit', 'resource manag', 'resource exchang', 'ingame curr', 'status symbol', 'virtual reward', 'game token', 'virtual economi', 'virtual marketplac', 'resource accumul', 'digital asset'}, 'torture breaks': {'heart system', 'play limit', 'paywal', 'energy bar', 'cooldown tim', 'torture break', 'play restrict', 'energy mechan', 'resource manag', 'gated cont', 'time restrict', 'wait tim', 'stamina system', 'inapp purchas', 'timed lockout', 'live', 'energy refil', 'waiting period', 'limited playtim', 'energy system'}, 'visual grave': {'failure reinforc', 'positive feedback', 'overcoming challeng', 'perseverance encourag', 'improvement encourag', 'progress failur', 'failforward design', 'encouraging messag', 'constructive feedback', 'bounceback support', 'inspiring graph', 'supportive environ', 'uplifting imageri', 'learn mistak', 'setback recoveri', 'growth mindset', 'resilience build', 'motivational design', 'motivational visu', 'next opportunity focus'}, 'high five': {'instant gratif', 'realtime encourag', 'systemprovided encourag', 'responsive reinforc', 'positive feedback', 'inapp prais', 'immediate feedback', 'goal recognit', 'achievement acknowledg', 'quick reinforc', 'progress affirm', 'motivational prompt', 'action valid', 'performance reward', 'success ind', 'task completion feedback', 'accomplishment feedback', 'congratulatory messag', 'success celebr', 'visual auditory cu'}, 'last mile drive': {'nearing goal remind', 'final stretch support', 'neargoal motiv', 'almostthere featur', 'progress visu', 'countdown tim', 'completion encourag', 'milestone notif', 'loss aversion trigg', 'achievement nudg', 'goal completion motiv', 'finish line encourag', 'last mile dr', 'task completion incent', 'sense urg', 'goal proximity featur', 'deadline remind', 'proximity alert', 'endgoal boost', 'progress ind'}, 'anticipation parade': {'nearing winst', 'closingin motiv', 'progressbased anticip', 'goal proximity excit', 'excitement buildup', 'finish line anticip', 'progress excit', 'excitement trigg', 'anticipation parad', 'reward anticip', 'imminent success', 'motivation boost', 'winstate anticip', 'pregoal excit', 'prereward motiv', 'almostthere anticip', 'goal anticip', 'sense achiev', 'nearing completion motiv', 'upcoming reward motiv'}, 'avatar': {'avatar featur', 'virtual charact', 'virtual self', 'inapp avatar', 'avatar progress', 'game charact', 'digital persona', 'ingame persona', 'avatar engag', 'character cr', 'virtual ident', 'user represent', 'player represent', 'customizable avatar', 'avatar', 'avatarbased interact', 'personalized charact', 'character custom', 'avatar custom', 'digital represent'}, 'win states': {'badge acquisit', 'skill masteri', 'reward mileston', 'goalbased victori', 'victory mileston', 'challenge complet', 'achievement object', 'task complet', 'knowledge profici', 'inapp accomplish', 'accomplishment target', 'winning condit', 'level attain', 'goal achiev', 'success condit', 'leaderboard competit', 'scorebased success', 'game object', 'win stat', 'progress mark'}, 'voting': {'user prefer', 'votebased cur', 'content rank', 'community vot', 'downvot', 'opinion shar', 'social recognit', 'social vot', 'upvot', 'userdriven competit', 'endorsement vot', 'votebased interact', 'content r', 'feedback mechan', 'likebased featur', 'decision mak', 'vote', 'usergenerated pol', 'user involv', 'voting idea'}, 'crowning': {'top performer recognit', 'outstanding particip', 'game el', 'visible achiev', 'accomplishment incent', 'sense accomplish', 'special status', 'performance recognit', 'recognit', 'goal attain', 'recognition mark', 'status symbol', 'badge honor', 'incentive program', 'crown', 'achievement badg', 'exceptional perform', 'exceptional achiev', 'reward recognit', 'recognition award'}, 'status quo sloth': {'leaderboard', 'habitform', 'account', 'reward system', 'behavior chang', 'social influ', 'longterm engag', 'custom', 'status quo sloth', 'engagement loop', 'feedback mechan', 'habit track', 'incentive program', 'goal track', 'habit form', 'person', 'sustained retent', 'community build', 'sense ownership', 'progress track'}})\n"
     ]
    }
   ],
   "source": [
    "# Getting stems\n",
    "\n",
    "from stemming.porter2 import stem\n",
    "from collections import defaultdict\n",
    "\n",
    "with open('features.txt') as file:\n",
    "    str = file.read()\n",
    "\n",
    "features = [feature.strip() for feature in str.split(',')]\n",
    "\n",
    "df = pd.read_csv('features-all.csv')\n",
    "print(df)\n",
    "\n",
    "def stem_phrase(phrase):\n",
    "    words = phrase.split()\n",
    "    stemmed_words = [stem(word) for word in words]\n",
    "    return ' '.join(stemmed_words)\n",
    "\n",
    "df['Stem'] = df['Feature'].apply(stem)\n",
    "\n",
    "df['SynonymStem'] = df['Synonym'].apply(stem)\n",
    "df['SynonymStem'] = df['SynonymStem'].apply(standardize)\n",
    "\n",
    "print(df)\n",
    "\n",
    "df.to_csv('feature-list.csv', index=False)\n",
    "\n",
    "my_dict = defaultdict(set)\n",
    "for feature, synonym in zip(df['Feature'], df['SynonymStem']):\n",
    "    my_dict[feature].add(synonym)\n",
    "\n",
    "# Print the resulting dictionary\n",
    "print(my_dict)"
   ]
  },
  {
   "cell_type": "code",
   "execution_count": 33,
   "metadata": {},
   "outputs": [
    {
     "name": "stdout",
     "output_type": "stream",
     "text": [
      "combined-review-mimo_sentiment_standardized.csv\n"
     ]
    },
    {
     "name": "stderr",
     "output_type": "stream",
     "text": [
      "/tmp/ipykernel_38188/76723204.py:9: DtypeWarning: Columns (4,7,9) have mixed types. Specify dtype option on import or set low_memory=False.\n",
      "  df = pd.read_csv('review-files-combined-standardized/' + file)\n"
     ]
    },
    {
     "name": "stdout",
     "output_type": "stream",
     "text": [
      "combined-review-datacamp_sentiment_standardized.csv\n",
      "combined-review-programming-hero_sentiment_standardized.csv\n",
      "combined-review-learn-python-programiz_sentiment_standardized.csv\n",
      "combined-review-programming-hub_sentiment_standardized.csv\n"
     ]
    },
    {
     "name": "stderr",
     "output_type": "stream",
     "text": [
      "/tmp/ipykernel_38188/76723204.py:9: DtypeWarning: Columns (4,7,9) have mixed types. Specify dtype option on import or set low_memory=False.\n",
      "  df = pd.read_csv('review-files-combined-standardized/' + file)\n"
     ]
    },
    {
     "name": "stdout",
     "output_type": "stream",
     "text": [
      "combined-review-encode_sentiment_standardized.csv\n",
      "combined-review-sololearn_sentiment_standardized.csv\n"
     ]
    },
    {
     "name": "stderr",
     "output_type": "stream",
     "text": [
      "/tmp/ipykernel_38188/76723204.py:9: DtypeWarning: Columns (6,8,9) have mixed types. Specify dtype option on import or set low_memory=False.\n",
      "  df = pd.read_csv('review-files-combined-standardized/' + file)\n"
     ]
    },
    {
     "name": "stdout",
     "output_type": "stream",
     "text": [
      "combined-review-codeacademy_sentiment_standardized.csv\n"
     ]
    }
   ],
   "source": [
    "# Filtering reviews\n",
    "\n",
    "filelist = [file for file in os.listdir('review-files-combined-standardized/')]\n",
    "\n",
    "\n",
    "for file in filelist:\n",
    "    print(file)\n",
    "\n",
    "    df = pd.read_csv('review-files-combined-standardized/' + file)\n",
    "    df['standardizedReview'] = df['standardizedReview'].astype('str')\n",
    "    \n",
    "\n",
    "    df['mentionedFeature'] = df['standardizedReview'].apply(lambda x: ', '.join([feature for feature, synonyms in my_dict.items() if any(syn in x for syn in synonyms)]))\n",
    "    df['mentionedSynonyms'] = df['standardizedReview'].apply(lambda x: ', '.join([syn for feature, synonyms in my_dict.items() for syn in synonyms if syn in x]))\n",
    "\n",
    "    df.replace('', np.nan, inplace=True)\n",
    "    df.dropna(subset=['mentionedFeature'], inplace=True)\n",
    "    #df['standardizedReview'] = df['review'].apply(standardize)\n",
    "\n",
    "    output_file = os.path.splitext(file)[0] + '_filtered.csv'\n",
    "\n",
    "    df.to_csv('review-files-combined-filtered/' + output_file, index=False)"
   ]
  },
  {
   "cell_type": "code",
   "execution_count": 52,
   "metadata": {},
   "outputs": [
    {
     "name": "stdout",
     "output_type": "stream",
     "text": [
      "defaultdict(<class 'list'>, {'daily streaks': [0, 0], 'points system': [0, 0], 'progress bar': [0, 0], 'strike habit/competition': [0, 0], 'social discovery': [0, 0], 'challenges': [0, 0], 'leaderboard/competition': [0, 0], 'boosters': [0, 0], 'virtual economy': [0, 0], 'torture breaks': [0, 0], 'visual grave': [0, 0], 'high five': [0, 0], 'last mile drive': [0, 0], 'anticipation parade': [0, 0], 'avatar': [0, 0], 'win states': [0, 0], 'voting': [0, 0], 'crowning': [0, 0], 'status quo sloth': [0, 0]})\n",
      "0\n",
      "0\n",
      "combined-review-mimo_sentiment_standardized_filtered.csv\n",
      "combined-review-sololearn_sentiment_standardized_filtered.csv\n",
      "combined-review-datacamp_sentiment_standardized_filtered.csv\n",
      "combined-review-codeacademy_sentiment_standardized_filtered.csv\n",
      "combined-review-programming-hero_sentiment_standardized_filtered.csv\n",
      "combined-review-learn-python-programiz_sentiment_standardized_filtered.csv\n",
      "combined-review-encode_sentiment_standardized_filtered.csv\n",
      "combined-review-programming-hub_sentiment_standardized_filtered.csv\n",
      "defaultdict(<class 'list'>, {'daily streaks': [117, -34, 0.5496688741721855], 'points system': [29, -8, 0.5675675675675675], 'progress bar': [35, -12, 0.48936170212765956], 'strike habit/competition': [47, -5, 0.8076923076923077], 'social discovery': [57, -11, 0.6764705882352942], 'challenges': [2023, -493, 0.6081081081081081], 'leaderboard/competition': [109, -35, 0.5138888888888888], 'boosters': [1475, -222, 0.7383618149675899], 'virtual economy': [4, -1, 0.6], 'torture breaks': [496, -539, -0.04154589371980676], 'visual grave': [25, -11, 0.3888888888888889], 'high five': [18, 0, 1.0], 'last mile drive': [1, -1, 0.0], 'anticipation parade': [4, 0, 1.0], 'avatar': [9, -8, 0.058823529411764705], 'win states': [6, -3, 0.3333333333333333], 'voting': [75, -63, 0.08695652173913043], 'crowning': [21, -5, 0.6153846153846154], 'status quo sloth': [1277, -1109, 0.07041072925398156]})\n"
     ]
    }
   ],
   "source": [
    "# Aggregating feature sentiments\n",
    "\n",
    "scores = defaultdict(list)\n",
    "for feature in my_dict.keys():\n",
    "    feature = feature.lower()\n",
    "    scores[feature] = [0, 0]\n",
    "\n",
    "print(scores)\n",
    "print(scores['daily streaks'][0])\n",
    "print(scores['daily streaks'][1])\n",
    "\n",
    "filelist = [file for file in os.listdir('review-files-combined-filtered/')]\n",
    "\n",
    "for file in filelist:\n",
    "    print(file)\n",
    "\n",
    "    df = pd.read_csv('review-files-combined-filtered/' + file)\n",
    "\n",
    "    for index, row in df.iterrows():\n",
    "        mentioned_features = [feature.strip() for feature in row['mentionedFeature'].split(',')]\n",
    "        #print(mentioned_features)\n",
    "        for feature in mentioned_features:\n",
    "            #print(feature)\n",
    "            if row['sentiment'] == 'POSITIVE':\n",
    "                scores[feature][0] += 1\n",
    "            elif row['sentiment'] == 'NEGATIVE':\n",
    "                scores[feature][1] -= 1\n",
    "\n",
    "for feature in scores.keys():\n",
    "    scores[feature].append((scores[feature][0] + scores[feature][1]) / (scores[feature][0] - scores[feature][1]))\n",
    "\n",
    "print(scores)\n",
    "\n",
    "overallscoredf = pd.DataFrame(columns = ['feature', 'positiveCount', 'negativeCount', 'score'])\n",
    "\n",
    "for feature in scores.keys():\n",
    "    new_row = pd.Series({'feature': feature, 'positiveCount': scores[feature][0], 'negativeCount': scores[feature][1], 'score': scores[feature][2]})\n",
    "    overallscoredf = pd.concat([overallscoredf, new_row.to_frame().T], ignore_index=False)\n",
    "\n",
    "overallscoredf.to_csv('feature-scores.csv')"
   ]
  },
  {
   "cell_type": "code",
   "execution_count": 49,
   "metadata": {},
   "outputs": [],
   "source": [
    "# Feature sentiment per app\n",
    "\n",
    "scoredf = pd.DataFrame(columns = ['app', 'feature', 'positiveCount', 'negativeCount', 'score'])\n",
    "\n",
    "filelist = [file for file in os.listdir('review-files-combined-filtered/')]\n",
    "\n",
    "with open('../googleplay-apps.txt') as appfile:\n",
    "    line = appfile.readline()\n",
    "\n",
    "    while(line):\n",
    "        app = line.strip()\n",
    "        \n",
    "        df = pd.read_csv('review-files-combined-filtered/combined-review-' + app + '_sentiment_standardized_filtered.csv')\n",
    "\n",
    "        appscores = defaultdict(list)\n",
    "        for feature in my_dict.keys():\n",
    "            feature = feature.lower()\n",
    "            appscores[feature] = [0, 0]\n",
    "\n",
    "        for index, row in df.iterrows():\n",
    "            mentioned_features = [feature.strip() for feature in row['mentionedFeature'].split(',')]\n",
    "            #print(mentioned_features)\n",
    "            for feature in mentioned_features:\n",
    "                #print(feature)\n",
    "                if row['sentiment'] == 'POSITIVE':\n",
    "                    appscores[feature][0] += 1\n",
    "                elif row['sentiment'] == 'NEGATIVE':\n",
    "                    appscores[feature][1] -= 1\n",
    "\n",
    "        for feature in appscores.keys():\n",
    "            if appscores[feature][0] - appscores[feature][1] == 0:\n",
    "                appscores[feature].append(0)\n",
    "                continue\n",
    "            appscores[feature].append((appscores[feature][0] + appscores[feature][1]) / (appscores[feature][0] - appscores[feature][1]))\n",
    "\n",
    "        for feature in appscores.keys():\n",
    "            new_row = pd.Series({'app': app, 'feature': feature, 'positiveCount': appscores[feature][0], 'negativeCount': appscores[feature][1], 'score': appscores[feature][2]})\n",
    "            \n",
    "            scoredf = pd.concat([scoredf, new_row.to_frame().T], ignore_index=False)\n",
    "\n",
    "        line = appfile.readline()\n",
    "\n",
    "scoredf.to_csv('feature-scores-by-app.csv')\n"
   ]
  },
  {
   "cell_type": "code",
   "execution_count": 9,
   "metadata": {},
   "outputs": [
    {
     "name": "stdout",
     "output_type": "stream",
     "text": [
      "codeacademy\n",
      "datacamp\n",
      "encode\n",
      "learn-python-programiz\n",
      "mimo\n"
     ]
    },
    {
     "name": "stderr",
     "output_type": "stream",
     "text": [
      "/tmp/ipykernel_12114/3236406048.py:11: DtypeWarning: Columns (3,6,8) have mixed types. Specify dtype option on import or set low_memory=False.\n",
      "  df = pd.read_csv('review-files-combined/combined-review-' + app + '_sentiment.csv')\n"
     ]
    },
    {
     "name": "stdout",
     "output_type": "stream",
     "text": [
      "programming-hero\n",
      "programming-hub\n"
     ]
    },
    {
     "name": "stderr",
     "output_type": "stream",
     "text": [
      "/tmp/ipykernel_12114/3236406048.py:11: DtypeWarning: Columns (3,6,8) have mixed types. Specify dtype option on import or set low_memory=False.\n",
      "  df = pd.read_csv('review-files-combined/combined-review-' + app + '_sentiment.csv')\n"
     ]
    },
    {
     "name": "stdout",
     "output_type": "stream",
     "text": [
      "sololearn\n"
     ]
    },
    {
     "name": "stderr",
     "output_type": "stream",
     "text": [
      "/tmp/ipykernel_12114/3236406048.py:11: DtypeWarning: Columns (5,7,8) have mixed types. Specify dtype option on import or set low_memory=False.\n",
      "  df = pd.read_csv('review-files-combined/combined-review-' + app + '_sentiment.csv')\n"
     ]
    }
   ],
   "source": [
    "# Overall sentiment per app\n",
    "sentimentdf = pd.DataFrame(columns = ['app', 'positiveCount', 'negativeCount', 'score'])\n",
    "\n",
    "with open('../googleplay-apps.txt') as appfile:\n",
    "    line = appfile.readline()\n",
    "\n",
    "    while(line):\n",
    "        app = line.strip()\n",
    "        print(app)\n",
    "\n",
    "        df = pd.read_csv('review-files-combined/combined-review-' + app + '_sentiment.csv')\n",
    "\n",
    "        positiveCount = 0\n",
    "        negativeCount = 0\n",
    "\n",
    "        for index, row in df.iterrows():\n",
    "\n",
    "            if row['sentiment'] == 'POSITIVE':\n",
    "                positiveCount += 1\n",
    "            elif row['sentiment'] == 'NEGATIVE':\n",
    "                negativeCount -= 1\n",
    "        \n",
    "        score = (positiveCount + negativeCount) / (positiveCount - negativeCount)\n",
    "        new_row = pd.Series({'app': app, 'positiveCount': positiveCount, 'negativeCount': negativeCount, 'score': score})\n",
    "        sentimentdf = pd.concat([sentimentdf, new_row.to_frame().T], ignore_index=False)\n",
    "\n",
    "        line = appfile.readline()\n",
    "\n",
    "sentimentdf.to_csv('app-scores.csv', index=False)"
   ]
  },
  {
   "cell_type": "code",
   "execution_count": 10,
   "metadata": {},
   "outputs": [],
   "source": [
    "# Renaming score for clarity and adding proportions of positive and negative reviews\n",
    "\n",
    "files = ['app-sentiment.csv', \n",
    "         'feature-sentiment.csv', \n",
    "         'feature-sentiment_python.csv', \n",
    "         'feature-sentiment-by-app.csv', \n",
    "         'feature-sentiment-by-app_python.csv']\n",
    "\n",
    "for file in files:\n",
    "    df = pd.read_csv(file)\n",
    "\n",
    "    df = df.rename(columns={'score': 'aggregatedAverage'})\n",
    "\n",
    "    df['negativeCount'] = df['negativeCount']*(-1)\n",
    "\n",
    "    df['positiveProportion'] = df['positiveCount'] / (df['positiveCount'] + df['negativeCount'])\n",
    "    df['negativeProportion'] = 1 - df['positiveProportion']\n",
    "\n",
    "    df.to_csv(file, index=False)"
   ]
  }
 ],
 "metadata": {
  "kernelspec": {
   "display_name": "Python 3",
   "language": "python",
   "name": "python3"
  },
  "language_info": {
   "codemirror_mode": {
    "name": "ipython",
    "version": 3
   },
   "file_extension": ".py",
   "mimetype": "text/x-python",
   "name": "python",
   "nbconvert_exporter": "python",
   "pygments_lexer": "ipython3",
   "version": "3.10.6"
  },
  "orig_nbformat": 4
 },
 "nbformat": 4,
 "nbformat_minor": 2
}
