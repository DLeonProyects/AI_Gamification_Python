{
  "cells": [
    {
      "cell_type": "code",
      "execution_count": null,
      "metadata": {
        "id": "tnWMdISv7R6K",
        "colab": {
          "base_uri": "https://localhost:8080/"
        },
        "outputId": "e9408393-4035-4679-ccce-47f2418c71c0"
      },
      "outputs": [
        {
          "output_type": "stream",
          "name": "stdout",
          "text": [
            "AppStore or GooglePlay? (A -> AppStore, G -> Google Play)\n",
            "g\n",
            "Input the name of the app\n",
            "solo learn\n",
            "All reviews? (Y/N)\n",
            "y\n",
            "Include specific Rating? (Y/N?)\n",
            "n\n",
            "default rating\n"
          ]
        }
      ],
      "source": [
        "#installing neccesary libraries\n",
        "\n",
        "# !pip install google-play-scraper\n",
        "# !pip install app-store-scraper\n",
        "# !pip install google-search-scraper-python\n",
        "# !pip install pandas\n",
        "\n",
        "\n",
        "from google_play_scraper import app, search, Sort, reviews, reviews_all\n",
        "from app_store_scraper import AppStore\n",
        "from pprint import pprint\n",
        "import pandas as pd\n",
        "import numpy as np\n",
        "import json\n",
        "#static variables:\n",
        "language = 'en'\n",
        "countries = 'us'\n",
        "appid = []\n",
        "\n",
        "def searches(nameofSearch):\n",
        "  result = search(\n",
        "    nameofSearch,\n",
        "    lang=\"en\",  # defaults to 'en'\n",
        "    country=\"us\",  # defaults to 'us'\n",
        "    n_hits=3  # defaults to 30 (= Google's maximum)\n",
        ")\n",
        "  return result\n",
        "\n",
        "def getAppId(r):\n",
        "  for d in r:\n",
        "    id = (d['appId'])\n",
        "    # appid.append(id)\n",
        "    return id\n",
        "\n",
        "def insertId(g, cont, rating, choice):\n",
        "\n",
        "  if choice == None:\n",
        "    if rating == None:\n",
        "      result, continuation_token = reviews(\n",
        "      g,\n",
        "      lang='en', # defaults to 'en'\n",
        "      country='us', # defaults to 'us'\n",
        "      sort=Sort.NEWEST, # defaults to Sort.NEWEST\n",
        "      count=cont # defaults to 100\n",
        "      # defaults to None(means all score)\n",
        "    )\n",
        "      return result\n",
        "    else:\n",
        "      result, continuation_token = reviews(\n",
        "      g,\n",
        "      lang='en', # defaults to 'en'\n",
        "      country='us', # defaults to 'us'\n",
        "      sort=Sort.NEWEST, # defaults to Sort.NEWEST\n",
        "      count=cont, # defaults to 100\n",
        "      filter_score_with=rating# defaults to None(means all score)\n",
        "    )\n",
        "      return result\n",
        " \n",
        "  else:\n",
        "    if rating == None:\n",
        "      result = reviews_all(\n",
        "      g,\n",
        "      sleep_milliseconds=0, # defaults to 0\n",
        "      lang='en', # defaults to 'en'\n",
        "      country='us', # defaults to 'us'\n",
        "      sort=Sort.MOST_RELEVANT, # defaults to Sort.MOST_RELEVANT\n",
        "      filter_score_with=None\n",
        "      )\n",
        "      return result\n",
        "    else: \n",
        "      result = reviews_all(\n",
        "      g,\n",
        "      sleep_milliseconds=0, # defaults to 0\n",
        "      lang='en', # defaults to 'en'\n",
        "      country='us', # defaults to 'us'\n",
        "      sort=Sort.MOST_RELEVANT, # defaults to Sort.MOST_RELEVANT\n",
        "      filter_score_with=rating # defaults to None(means all score)\n",
        "      )\n",
        "      return result\n",
        "\n",
        "def googleplay(a, ct, r, c):\n",
        "  searches1 = searches(a)\n",
        "  appId = getAppId(searches1)\n",
        "  reviews = insertId(appId, ct, r, c)\n",
        "  return reviews\n",
        "\n",
        "def googleplay1(a, ct, r, c):\n",
        "  searches1 = searches(a)\n",
        "  appId = getAppId(searches1)\n",
        "  reviews = insertId(appId, ct, r, c)\n",
        "  return reviews \n",
        "\n",
        "#input \n",
        "\n",
        "print(\"AppStore or GooglePlay? (A -> AppStore, G -> Google Play)\")\n",
        "store = input()\n",
        "if store == \"a\" or store == \"A\":\n",
        "  print(\"Input the name of the app\")\n",
        "  app = input()\n",
        "  applereviews = AppStore(country=\"us\", app_name=app)\n",
        "  print(\"How many reviews?\")\n",
        "  count = int(input())\n",
        "  applereviews.review(how_many=count)\n",
        "  applereviews.reviews\n",
        "  applestoredf = pd.DataFrame(np.array(applereviews.reviews),columns=['review'])\n",
        "  applestoredf2 = applestoredf.join(pd.DataFrame(applestoredf.pop('review').tolist()))\n",
        "\n",
        "  print(\"Visualize data? (Y/N?)\")\n",
        "  visu = input()\n",
        "  if visu == \"Y\" or visu == \"y\":\n",
        "    display(applestoredf2)\n",
        "  else:\n",
        "   print(\"No display\")\n",
        "\n",
        "  print(\"Export data? (Y/N?)\")\n",
        "  visu2 = input()\n",
        "  if visu2 == \"Y\" or visu2 == \"y\":\n",
        "    applestoredf2.to_csv('applestore-review.csv') \n",
        "  else:\n",
        "    print(\"No export\")\n",
        "\n",
        "else:\n",
        "  print(\"Input the name of the app\")\n",
        "  app = input()\n",
        "  print(\"All reviews? (Y/N)\")\n",
        "  choice = input()\n",
        "  if choice == \"Y\" or choice == \"y\":\n",
        "    choice = \"Y\"\n",
        "    count = None\n",
        "  else:  \n",
        "    choice = None\n",
        "    print(\"How many reviews?\")\n",
        "    count = int(input())\n",
        "  print(\"Include specific Rating? (Y/N?)\")\n",
        "  cond = input()\n",
        "  if cond == \"Y\" or cond == \"y\":\n",
        "    print(\"Input the rating: (0-5)\")\n",
        "    rating = int(input())\n",
        "  elif cond == \"N\" or cond == \"n\":\n",
        "    print(\"default rating\")\n",
        "    rating = None\n",
        "  else:\n",
        "    print(\"default rating\")\n",
        "    rating = None\n",
        "\n",
        "  googleplaydf = pd.DataFrame(np.array(googleplay(app, count, rating, choice)),columns=['review'])\n",
        "  googleplaydf2 = googleplaydf.join(pd.DataFrame(googleplaydf.pop('review').tolist()))\n",
        "\n",
        "  print(\"Visualize data? (Y/N?)\")\n",
        "  visu = input()\n",
        "  if visu == \"Y\" or visu == \"y\":\n",
        "    display(googleplaydf2)\n",
        "  else:\n",
        "   print(\"No display\")\n",
        "\n",
        "  print(\"Export data? (Y/N?)\")\n",
        "  visu2 = input()\n",
        "  if visu2 == \"Y\" or visu2 == \"y\":\n",
        "    googleplaydf2.to_csv('C:\\googleplay-review.csv') \n",
        "  else:\n",
        "    print(\"No export\")"
      ]
    },
    {
      "cell_type": "code",
      "source": [
        "result, continuation_token = reviews(\n",
        "    'com.skynetcoaching.expertsystem',\n",
        "    lang='en', # defaults to 'en'\n",
        "    country='us', # defaults to 'us'\n",
        "    sort=Sort.NEWEST, # defaults to Sort.NEWEST\n",
        "    count=3, # defaults to 100\n",
        "    filter_score_with=5 # defaults to None(means all score)\n",
        ")\n",
        "print(result)"
      ],
      "metadata": {
        "id": "b8rXmGYKkyES"
      },
      "execution_count": null,
      "outputs": []
    },
    {
      "cell_type": "code",
      "source": [
        "result = search(\n",
        "    \"Evolve ai\",\n",
        "    lang=\"en\",  # defaults to 'en'\n",
        "    country=\"us\",  # defaults to 'us'\n",
        "    n_hits=3  # defaults to 30 (= Google's maximum)\n",
        ")\n",
        "print (result)"
      ],
      "metadata": {
        "id": "v4oKwc4BjMwH"
      },
      "execution_count": null,
      "outputs": []
    },
    {
      "cell_type": "code",
      "source": [
        "    \n",
        "result = reviews_all(\n",
        "    'com.skynetcoaching.expertsystem',\n",
        "    sleep_milliseconds=0, # defaults to 0\n",
        "    lang='en', # defaults to 'en'\n",
        "    country='us', # defaults to 'us'\n",
        "    sort=Sort.MOST_RELEVANT # defaults to None(means all score)\n",
        ")\n",
        "print(result)"
      ],
      "metadata": {
        "id": "P02eHLKSjbJD",
        "colab": {
          "base_uri": "https://localhost:8080/"
        },
        "outputId": "675a1d8e-23e7-4c1a-f32a-f81b80f5bafb"
      },
      "execution_count": 10,
      "outputs": [
        {
          "output_type": "stream",
          "name": "stdout",
          "text": [
            "[{'reviewId': '01f256c6-074e-44f1-8cf7-ce100d6f09c4', 'userName': 'Samuel Lloyd', 'userImage': 'https://play-lh.googleusercontent.com/a-/ACB-R5SByTUIa85ph8q_75sz9DyFcnTqIPKZaNhxCop5', 'content': \"I'm currently using the powerlifting program on the app and have been really happy with it. The app requires you to use and honestly report RPEs, which can be helpful for adjusting your training and getting weekly and intra workout adjustments. While it may not have all the bells and whistles of other AI training apps, it's a much more affordable option and gets the job done. Overall, I'd recommend the EvolveAI app to anyone looking for a hands-off powerlifting program at a great price.\", 'score': 4, 'thumbsUpCount': 2, 'reviewCreatedVersion': '1.1.1', 'at': datetime.datetime(2022, 12, 28, 21, 5, 36), 'replyContent': None, 'repliedAt': None}, {'reviewId': '2c9b611b-6ce1-4217-89ed-ccdf2896a5ff', 'userName': 'Thomas Hermon', 'userImage': 'https://play-lh.googleusercontent.com/a/AGNmyxawkVKPKG1nTVUAJ9imyi8EKrH4m-oXQ0ZAoTGt=mo', 'content': \"The actual programming is brilliant so I wish I could leave a higher rating but the continual crashing is mindnumbing. At this point I haven't been able to launch the app successfully in four days, regardless of how many times I have reinstall. If they can iron out the bugs this would be 5 stars all day long.\", 'score': 2, 'thumbsUpCount': 7, 'reviewCreatedVersion': '1.2', 'at': datetime.datetime(2023, 1, 2, 16, 38, 6), 'replyContent': None, 'repliedAt': None}, {'reviewId': '9eaa8430-908d-44e4-b376-0f5e83d4deaa', 'userName': 'Jonathan Tea', 'userImage': 'https://play-lh.googleusercontent.com/a/AGNmyxZvGQ9r1biUX9Evqir1R2I6KkoX4g7qCGiemz8D=mo', 'content': \"It's very much like JAI but for a lot less... I really enjoy it. The workouts are usually well balanced, I can already see the improvements in my body composition (running 70% BB / 30% PL). I'll back into PL after this 4 months block. I've been lifting for 10 years now, and I now own a garage gym, that app makes my day. I don't compete, just having fun It used to be slow AF, but it has been updated yay! I always found that JAI was really expensive for what it was, I'm glad that EAI is now there.\", 'score': 5, 'thumbsUpCount': 1, 'reviewCreatedVersion': '1.21.62', 'at': datetime.datetime(2023, 2, 14, 11, 13, 43), 'replyContent': None, 'repliedAt': None}, {'reviewId': 'c00b62e3-78df-4499-acf3-1385038a771b', 'userName': 'Miranda Watkins', 'userImage': 'https://play-lh.googleusercontent.com/a-/ACB-R5Sur7x5YhJXJe0vcmrPg5cct3FDnSStrW6ABSr7FQ', 'content': \"I've been using the app for about 10 weeks now. Had very few crashes. Program is pretty much the same as jugg ai which is fine for me. Needs a fix with the interaction between benchmarks and rep max attempts. You have to turn benchmarks off to get the RPE 10 set to show which is a little annoying. I really like the benchmark sets though!\", 'score': 4, 'thumbsUpCount': 0, 'reviewCreatedVersion': '1.20.4', 'at': datetime.datetime(2023, 1, 29, 2, 43, 49), 'replyContent': None, 'repliedAt': None}, {'reviewId': '4e6a0684-a9c5-4a3e-aea8-98048d29cf1b', 'userName': 'justin kilbourn', 'userImage': 'https://play-lh.googleusercontent.com/a/AGNmyxaqxyvl1NFJ6VrYc9RZi3c8cyqvCKLYjRN4AidX=mo', 'content': 'I love Garrett, and wanted this to work out. But the app is constantly crashing. Wifi or plan data, doesnt matter. Rebooted phone, updated the app, uninstall/re-install...nothing works. Too bad, I liked it a lot.', 'score': 1, 'thumbsUpCount': 6, 'reviewCreatedVersion': '1.2', 'at': datetime.datetime(2023, 1, 6, 19, 37, 50), 'replyContent': None, 'repliedAt': None}, {'reviewId': 'c6188909-9d0d-41cc-8537-2c8ce3b653f1', 'userName': 'David Creed', 'userImage': 'https://play-lh.googleusercontent.com/a-/ACB-R5RpkKFPRwF0_GElKUhXJoZSl7vSuHkaT5rHzj0JB8s', 'content': \"Really liking so far. Once the initial bugs got sorted out, the app is easy to use and set up. I'm currently running the powerbuilding program and I just finished Week 1 of my second meso of bodybuilding. First meso was challenging in a good way, smart ramping of volume and intensity with weak point training scattered throughout the week. I feel like I've made progress from a visual standpoint in the first 5 weeks while my nagging aches and pains have improved (esp elbow tendinopathy).\", 'score': 5, 'thumbsUpCount': 1, 'reviewCreatedVersion': '1.0.1', 'at': datetime.datetime(2022, 12, 9, 23, 22, 51), 'replyContent': None, 'repliedAt': None}, {'reviewId': '1affbab7-ff7f-45e8-bd0b-312e5e226bda', 'userName': 'Shadi Zahed', 'userImage': 'https://play-lh.googleusercontent.com/a-/ACB-R5R5NEstWPGcL9_bQ24GTqS5tQ9F_jD2GMI2fUcmpFM', 'content': \"Reskinned version of the JTS app for a lower cost. I originally supported it because the team member, Garret, had provided amazing customer service. I'm 1 session in, during the begining of my meet prep. My app has crashed at least 25 times. Nothing I am doing seems to fix it.. tried force stopping the app, and tried restarting my phone. I even moved to a location with better reception in the gym. I'm halfway through today's session and my app won't resume. My wife's app does work fine, however.\", 'score': 3, 'thumbsUpCount': 11, 'reviewCreatedVersion': '1.0.1', 'at': datetime.datetime(2022, 12, 21, 2, 10, 39), 'replyContent': None, 'repliedAt': None}, {'reviewId': 'c48affb0-bdac-4ca1-8b73-fa616d8ff88e', 'userName': 'Syed Ahsan Raizan', 'userImage': 'https://play-lh.googleusercontent.com/a-/ACB-R5RtBmSmQIZ-O5kXqtr7A9bPKt3IBZuRH3-UMfnYnGg', 'content': 'Much better now than before. Frequency is still a problem. I feel like they bombard you with a ton of volume', 'score': 3, 'thumbsUpCount': 2, 'reviewCreatedVersion': '1.21.62', 'at': datetime.datetime(2023, 2, 16, 4, 31, 1), 'replyContent': None, 'repliedAt': None}, {'reviewId': '30868ab8-204b-4c67-a555-cdd66cd84c9e', 'userName': 'Anton', 'userImage': 'https://play-lh.googleusercontent.com/a/AGNmyxaJ1I_NgclYQ7AtJX1pxVXajI7UWnUAFOu7yb9B=mo', 'content': \"So far 4 weeks in. I really want to like this app as it's a direct competitor to Juggernaut at a fraction of the cost. However I find I do alot of the work myself, I have to manually check what I did last week for accessory reps/weights to then input for the current week. Major lifts (S/D/B) are all RPE based and again, I find I having to review the previous week to get an idea for this week. I honestly feel I am self programming- I'm trying to be open minded so will continue. Interface is good!\", 'score': 3, 'thumbsUpCount': 0, 'reviewCreatedVersion': '1.20.4', 'at': datetime.datetime(2023, 2, 8, 2, 53, 24), 'replyContent': None, 'repliedAt': None}, {'reviewId': '3631dcf4-7a97-48dd-82d4-1536fa913939', 'userName': 'Jason Fuhs', 'userImage': 'https://play-lh.googleusercontent.com/a/AGNmyxblOnqxxBWCeqtSJo8uo7sYjSiL5AHcFzmDDJlY=mo', 'content': \"When it worked it was great. The moment my free subscription ended and I paid the app crashed and never came back up. I reached out to customer service every witch way, even on social media and no one bothered to do anything. It's halirius to me they are on Instagram every day promoting how great the app is but they won't bother to fix is so it works for everyone paying for it.\", 'score': 1, 'thumbsUpCount': 11, 'reviewCreatedVersion': '1.0.1', 'at': datetime.datetime(2022, 12, 8, 22, 14, 40), 'replyContent': None, 'repliedAt': None}, {'reviewId': '8cd48091-b45c-413f-8a2e-1d1950dd5206', 'userName': 'Brian MacPherson', 'userImage': 'https://play-lh.googleusercontent.com/a-/ACB-R5QmiazB8FInnViJTJM6juGHOIGKm1LFmKESmiwb_Q', 'content': \"Someone recommended Juggernaut to me, but noted the hefty price tag it came with. By all accounts, this app seems to be every bit as good for a decent amount less. I'm a couple weeks in and I'm liking it so far; it seems to be everything I was looking for in a powerbuilding/weight-training app.\", 'score': 5, 'thumbsUpCount': 0, 'reviewCreatedVersion': '1.2', 'at': datetime.datetime(2023, 1, 6, 2, 12, 51), 'replyContent': None, 'repliedAt': None}, {'reviewId': '2fffa4d1-d73c-4a65-afad-ea421f51115e', 'userName': 'Matthew J', 'userImage': 'https://play-lh.googleusercontent.com/a-/ACB-R5QowLpbvMPdhaTGRLZ14V-TvMtLNVQ75Yn4IFOPEw', 'content': 'Do NOT sign up for a \"free\" trial. They make it impossible to cancel your subscription without actually talking to a human. They put fake \"manage your subscription\" buttons in their emails which do nothing other than direct you to their front page that asks you to sign up (not cancel or manage) for a subscription. After logging into your account there\\'s nowhere in the website or app to manage or cancel your trial.', 'score': 1, 'thumbsUpCount': 13, 'reviewCreatedVersion': '0.0.8', 'at': datetime.datetime(2022, 11, 24, 15, 35, 14), 'replyContent': None, 'repliedAt': None}, {'reviewId': '25b70652-aad4-4590-88f3-8d6a330bd384', 'userName': 'Kevin Tran', 'userImage': 'https://play-lh.googleusercontent.com/a-/ACB-R5S41IxvXVVQypv3ey87Xt70p3vUu8Xvo27o_In4iw', 'content': 'Non stop crashing of the app since the recent update, have deleted and reinstalled without help.', 'score': 1, 'thumbsUpCount': 6, 'reviewCreatedVersion': '1.1.1', 'at': datetime.datetime(2022, 12, 29, 0, 35, 34), 'replyContent': None, 'repliedAt': None}, {'reviewId': 'e7a7eeed-9b4a-4acf-a777-c287718b08b7', 'userName': 'Declan Bridges', 'userImage': 'https://play-lh.googleusercontent.com/a-/ACB-R5QTeqV4SfwSmopXQomsTResSCp9cNtFdR8lHk0wFQ', 'content': 'Headphones and audio stops working when app opens.', 'score': 2, 'thumbsUpCount': 0, 'reviewCreatedVersion': '1.21.62', 'at': datetime.datetime(2023, 2, 15, 4, 56, 59), 'replyContent': None, 'repliedAt': None}, {'reviewId': 'b2598a1e-379e-437e-abdb-0a6fb6df36cf', 'userName': 'Andrew Miles', 'userImage': 'https://play-lh.googleusercontent.com/a-/ACB-R5TL4MGFWdmDNArp0E-yE35OhKWibf9J1OuHgYTAs74', 'content': 'Lots of potential still has bugs, but hopefully they will sort it quickly.', 'score': 3, 'thumbsUpCount': 0, 'reviewCreatedVersion': '1.2', 'at': datetime.datetime(2023, 1, 2, 12, 44, 59), 'replyContent': None, 'repliedAt': None}, {'reviewId': 'c34837a4-9eea-40eb-9d4e-b6d86eec3ddc', 'userName': 'Michael Johnston', 'userImage': 'https://play-lh.googleusercontent.com/a-/ACB-R5Qq-PtsF-S45ZZ0XHl_verIyCeGem95vMnARSyk1_s', 'content': 'Crashes every time you change apps or close the phone screen', 'score': 1, 'thumbsUpCount': 3, 'reviewCreatedVersion': '1.1.1', 'at': datetime.datetime(2022, 12, 28, 23, 30, 7), 'replyContent': None, 'repliedAt': None}, {'reviewId': 'fee7a1a4-df85-4aff-aba4-011a895c849d', 'userName': 'Noah Cochran', 'userImage': 'https://play-lh.googleusercontent.com/a/AGNmyxZtRa-qCMHmpe93t0uF1Zstdk2rkLerZ30SUJk0=mo', 'content': \"I love this app!! It is simular to Juggernaut AI, but with more features. I now have the option to do different rep maxes, including singles, at higher RPE's for my top set. Something I have struggled with using simular apps, is not being able to practice singles. Singles are the main goal if you are training for powerlifting. This app has everything that you need to get STRONG! It's also half the cost of other apps. Garrett and the team have really outdone themselves with this one.\", 'score': 5, 'thumbsUpCount': 0, 'reviewCreatedVersion': '0.0.3', 'at': datetime.datetime(2022, 11, 4, 12, 5, 12), 'replyContent': None, 'repliedAt': None}, {'reviewId': '94d6fac5-9837-4a5b-b473-91fee4bbe718', 'userName': 'Stephen Bookout', 'userImage': 'https://play-lh.googleusercontent.com/a-/ACB-R5QYGHf1bAxC-mdHFkJhHeU1Qzga8GyuG41VBOFuWw', 'content': 'Tried the app on 3 different devices, none of which worked. All devices were up to date and uninstalling, re-installing app not a fix.', 'score': 1, 'thumbsUpCount': 8, 'reviewCreatedVersion': '1.0.1', 'at': datetime.datetime(2022, 12, 7, 11, 21, 53), 'replyContent': None, 'repliedAt': None}, {'reviewId': '7d8b77be-e174-45ac-9184-22f09aad181c', 'userName': 'Korede Ogundele', 'userImage': 'https://play-lh.googleusercontent.com/a-/ACB-R5QEmOxGpGPBjYaDTVPIgOASw3F3g4wXhpXlcGQPQw', 'content': \"I tried this out for a month because I considered switching from Juggernaut AI. First off, it's just a cheap knock off. It generated the EXACT same program as the JuggAI all did (slightly different sets/reps, everything else the same). Second, the app crashes a lot and it gets frustrating to use. I'm sticking with Juggernaut AI.\", 'score': 1, 'thumbsUpCount': 3, 'reviewCreatedVersion': None, 'at': datetime.datetime(2023, 1, 16, 4, 52, 10), 'replyContent': None, 'repliedAt': None}, {'reviewId': 'c984dfd1-3527-445e-89ca-e5de12808725', 'userName': 'Digital Marketing Portfolio', 'userImage': 'https://play-lh.googleusercontent.com/a-/ACB-R5SGWvLXGRwPVuC__kqSRPuNlBvH17-pKVU1-hYCbA', 'content': 'The timer makes the app crash. But overall pretty solid for programming.', 'score': 3, 'thumbsUpCount': 4, 'reviewCreatedVersion': '0.0.6', 'at': datetime.datetime(2022, 11, 20, 21, 15, 11), 'replyContent': None, 'repliedAt': None}, {'reviewId': '638ee7c2-d151-428b-a673-acf24e50e461', 'userName': 'Laura', 'userImage': 'https://play-lh.googleusercontent.com/a-/ACB-R5SpJac-0xbfq7CvpmclMPzSUQz-bogtP4dtJvRzFhk', 'content': \"Tried to cancel my membership before the free trial was over and couldn't so I deleted my account before the trial expired and still got charged.\", 'score': 1, 'thumbsUpCount': 8, 'reviewCreatedVersion': '1.0.1', 'at': datetime.datetime(2022, 12, 7, 0, 43, 24), 'replyContent': None, 'repliedAt': None}, {'reviewId': '1a672430-e525-4347-ada1-f5e38c78dac4', 'userName': 'Joshua Amundson', 'userImage': 'https://play-lh.googleusercontent.com/a-/ACB-R5Q7jITTnNmLNXNA7jhg43Rba2zRB-Kt6PVJuLo62Q', 'content': \"Lackluster at best. I had high hopes for this app. You can only choose between powerlifting and powerbuilding. You create your own program and the AI doesn't create very much. Not paying $15 a month for a tracking app that I have to choose my own workouts. The workload the AI chooses is generic and seems like its built for a one size fits all approach. With improvements this could be a useful tool. A subscription fee seems unrealistic, especially one so high.\", 'score': 2, 'thumbsUpCount': 5, 'reviewCreatedVersion': None, 'at': datetime.datetime(2022, 11, 12, 13, 39, 38), 'replyContent': None, 'repliedAt': None}, {'reviewId': 'f004bf7d-6c52-4c6c-853b-9e5b1c75df18', 'userName': 'Josh Knight', 'userImage': 'https://play-lh.googleusercontent.com/a/AGNmyxbCOaJM3Bb0mXV5kRRIRJhinQ7TWvpc59vQEl-f=mo', 'content': 'Programming is great app just crashes alot.', 'score': 3, 'thumbsUpCount': 0, 'reviewCreatedVersion': '1.1.1', 'at': datetime.datetime(2022, 12, 29, 23, 3, 32), 'replyContent': None, 'repliedAt': None}, {'reviewId': '97afaf7f-fe44-48f8-9be9-5c729a74499f', 'userName': 'Patrick Snell', 'userImage': 'https://play-lh.googleusercontent.com/a-/ACB-R5RHrD-sjMIjgSjV0c04x798DWizck3bnyZZY7YwnI4', 'content': 'It keeps crashing and nothing fixes it', 'score': 1, 'thumbsUpCount': 4, 'reviewCreatedVersion': '1.1.0', 'at': datetime.datetime(2022, 12, 26, 19, 52, 18), 'replyContent': None, 'repliedAt': None}, {'reviewId': 'f5faf04a-fcb5-4fa1-81c7-85e90544851f', 'userName': 'Brian Ting', 'userImage': 'https://play-lh.googleusercontent.com/a-/ACB-R5RvDvTKIhzsnp3Uk_3qLiX_ErBg96NZHHMz4EJW', 'content': 'It keeps crashing whenever I change my numbers on my program. I love the layout but damn you guys have got to fix the crashing issue asap', 'score': 2, 'thumbsUpCount': 7, 'reviewCreatedVersion': None, 'at': datetime.datetime(2022, 11, 30, 6, 25, 53), 'replyContent': None, 'repliedAt': None}, {'reviewId': '899588ab-0100-4c1b-8a6b-7bd5121490e4', 'userName': 'Pavao Sratković', 'userImage': 'https://play-lh.googleusercontent.com/a-/ACB-R5Q-QUXZ4Wrhr8r3vSC70U5FdzOOVce6Sm02KrMm1w', 'content': 'fix the bugs', 'score': 1, 'thumbsUpCount': 3, 'reviewCreatedVersion': '1.2.1', 'at': datetime.datetime(2023, 1, 9, 13, 46, 51), 'replyContent': None, 'repliedAt': None}, {'reviewId': '9926b5bc-3f60-42d3-b5ef-23f3f4e0f20d', 'userName': 'John', 'userImage': 'https://play-lh.googleusercontent.com/a-/ACB-R5TnZifznMBGWEL2d1paRZcz8U0FVwDalaVRSp0nSQ', 'content': 'App keeps crashing.....', 'score': 1, 'thumbsUpCount': 8, 'reviewCreatedVersion': '0.0.8', 'at': datetime.datetime(2022, 11, 25, 11, 59, 31), 'replyContent': None, 'repliedAt': None}, {'reviewId': '53ad7ff6-d9e6-40e1-b695-3857c4aae12f', 'userName': 'Haithem Kashada', 'userImage': 'https://play-lh.googleusercontent.com/a-/ACB-R5SAjqwRDhed0LC2KHyquOOKjZR07hcA0fC9uGSc4oM', 'content': 'Again keeps crashing', 'score': 1, 'thumbsUpCount': 4, 'reviewCreatedVersion': '0.0.7', 'at': datetime.datetime(2022, 11, 23, 14, 27, 20), 'replyContent': None, 'repliedAt': None}, {'reviewId': 'da1c1f10-75ae-4411-aaa0-20bf9b2a15cf', 'userName': 'Babneet Dhillon', 'userImage': 'https://play-lh.googleusercontent.com/a-/ACB-R5T-04XDaVC7CuqE2DSm4WQHu6s_XAykWPt2jm1qlg', 'content': 'Crashing frequently', 'score': 1, 'thumbsUpCount': 2, 'reviewCreatedVersion': '1.2', 'at': datetime.datetime(2023, 1, 2, 8, 28), 'replyContent': None, 'repliedAt': None}]\n"
          ]
        }
      ]
    },
    {
      "cell_type": "code",
      "source": [
        "googleplaydf = pd.DataFrame(np.array(result),columns=['review'])\n",
        "googleplaydf2 = googleplaydf.join(pd.DataFrame(googleplaydf.pop('review').tolist()))\n",
        "display(googleplaydf2)"
      ],
      "metadata": {
        "id": "nIURO9C3mLln"
      },
      "execution_count": null,
      "outputs": []
    }
  ],
  "metadata": {
    "colab": {
      "provenance": [],
      "authorship_tag": "ABX9TyN3FE+xoVyYq6AaDM/P+gmo"
    },
    "kernelspec": {
      "display_name": "Python 3",
      "name": "python3"
    },
    "language_info": {
      "name": "python"
    }
  },
  "nbformat": 4,
  "nbformat_minor": 0
}